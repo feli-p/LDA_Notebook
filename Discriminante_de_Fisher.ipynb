{
  "cells": [
    {
      "cell_type": "markdown",
      "metadata": {
        "id": "pPQY2LAR8s5z"
      },
      "source": [
        "# **Discriminante de Fisher**\n",
        "Luis Felipe Castro Corrales &ensp; 181417  \n",
        "David Emmanuel González Cázares &ensp; 198582  \n",
        "René Ochoa Sawaya &ensp; 179080  \n",
        "<hr>\n",
        "\n",
        "> Describir el modelo y la intuición. Explicar cómo se estiman los parámetros vía máxima verosimilitud. Ilustrar mediante un ejemplo.\n",
        "\n",
        "<hr>"
      ]
    },
    {
      "cell_type": "markdown",
      "metadata": {
        "id": "Wn74Xi3c837N"
      },
      "source": [
        "# Introducción\n",
        "\n",
        "El discriminante de Fisher se utiliza para separar en clases una población (como especies de plantas, marcas de coches o tipos de tumores). Se le asigna una etiqueta con su clase a cada observación. \n",
        "\n",
        "Para discriminar se utilizan las observaciones etiquetadas para construir un clasificador que separe las observaciones en sus clases de la mejor manera posible.\n",
        "\n",
        "Despues se utiliza el clasificador para predecir la clase de observaciones no etiquetadas."
      ]
    },
    {
      "cell_type": "markdown",
      "metadata": {
        "id": "SasN3S3HG32F"
      },
      "source": [
        "# Clases y atributos\n",
        "\n",
        "La población está partida en clases sin orden. Cada elemento de la población pertenece a una y solo una clase. Todos los elementos tienen medidas variables por los cuales se le clasifica, a estas se les llaman atributos. \n",
        "\n",
        "Ejemplos de atributos pueden ser: de una persona en una población la altura, el peso, la edad; de un foco la luminosidad, su tiempo de vida, su consumo de watts por hora; de una flor su color, su consumo de agua diario su número de pétalos, etc."
      ]
    },
    {
      "cell_type": "markdown",
      "metadata": {
        "id": "YXtrlRHmHnym"
      },
      "source": [
        "# Análisis por Discriminante Lineal Gaussiano\n",
        "\n",
        "El Análisis por Discriminación Lineal tiene su origen en una publicación de R. A. Fisher en los *Anales de la Eugenesia* (Fisher,&nbsp;1936). En escencia, el discriminante propuesto por Fisher busca encontrar un vector $\\mathbf{b}$ tal que al realizar la operación $\\mathbf{b}^\\mathrm{T} \\mathbf{x}$ se maximice la separación entre clases. Actualmente, el Análisis por Discriminante Lineal toma supuestos adicionales sobre la distribución de los datos para derivar resultados sobre la probabilidad de error de clasificación y para encontrar los estimadores de máxima verosimilitud de los parámetros desconocidos.\n",
        "\n",
        "Para hacer Análisis por Discriminante Lineal Gausiano, supongamos primero que tenemos dos clases $\\Pi_1$ y $\\Pi_2$ que dan origen a un conjunto de datos. Suponemos que una observación cualquiera $\\mathbf{X}=\\mathbf{x}$ proviene de la clase $\\Pi_i$ con una *probabilidad previa* $\\pi_i$. Además supongamos que la densidad de probabilidad condicional de $\\mathbf{x}$ para la clase $i$ es \n",
        "$$\n",
        "\\mathrm{P}(\\mathbf{X}=\\mathbf{x}|\\mathbf{X}\\in\\Pi_i) = f_i(\\mathbf{x}), \\quad i =1,2.\n",
        "$$\n",
        "Recordemos que la regla de clasificación de Bayes asigna $\\mathbf{x}$ a la clase $\\Pi_i$ con la mayor *probabilidad posterior* $p(\\Pi_i|\\mathbf{x}) = \\mathrm{P}(\\mathbf{X}\\in\\Pi_i|\\mathbf{X}=\\mathbf{x})$. Así, por la Regla de Bayes, determinamos que se asigna $\\mathbf{X}$ a $\\Pi_1$ si\n",
        "\\begin{equation}\n",
        "\\tag{1} \\frac{f_1(\\mathbf{x})\\pi_1}{f_2(\\mathbf{x})\\pi_2} > 1\n",
        "\\end{equation}\n",
        "\n",
        "El Análisis por Discriminante Lineal Gausiano parte del la regla de clasificación de Bayes (1) pero añade el supuesto de que ambas densidades de probabilidad son distribuciones normales multivariadas con medias arbitrarias pero con una matriz de covarianza en común. De tal forma al sustituir las funciones $f_i(\\cdot)$ y aplicando logaritmo natural, obtenemos\n",
        "\\begin{equation}\n",
        "\\tag{2} L(\\mathbf{x}) = \\ln\\left\\{\\frac{f_1(\\mathbf{x})\\pi_1}{f_2(\\mathbf{x})\\pi_2}\\right\\} = b_0 + \\mathbf{b}^\\mathrm{T} \\mathbf{x}\n",
        "\\end{equation}\n",
        "que es una función lineal de $\\mathbf{x}$ donde\n",
        "\\begin{equation}\n",
        "\\tag{3} \\mathbf{b} = \\Sigma_\\mathbf{XX}^{-1}(\\mu_1-\\mu_2)\n",
        "\\end{equation}\n",
        "\n",
        "\\begin{equation}\n",
        "\\tag{4} b_0 = -\\frac{1}{2}\\left\\{\\mu_1^\\mathrm{T}\\Sigma_\\mathbf{XX}^{-1}\\mu_1 - \\mu_2^\\mathrm{T}\\Sigma_\\mathbf{XX}^{-1}\\mu_2\\right\\} + \\ln\\left\\{\\frac{\\pi_1}{\\pi_2}\\right\\}\n",
        "\\end{equation}\n",
        "\n",
        "Así, se asigna $\\mathbf{X}$ a $\\Pi_1$ si $L(\\mathbf{x})>0$, o de lo contrario, se asigna $\\mathbf{X}$ a $\\Pi_2$.\n",
        "\n"
      ]
    },
    {
      "cell_type": "markdown",
      "metadata": {
        "id": "heRjTgPNIcbo"
      },
      "source": [
        "## Probabilidad de error de clasificación\n",
        "\n",
        "Las observaciones se clasifican según en cual de las dos regiones de clasificación caegan. La probabilidad de clasificar erroneamente la observación es la probabilidad de que caega en la región de la clase con la que no está etiquetada. La probabilidad de error de clasificación incrementa conforme la observación se vuelve más equidistante entre las regiones de claificación."
      ]
    },
    {
      "cell_type": "markdown",
      "metadata": {
        "id": "2BbuIvagIuWl"
      },
      "source": [
        "## Estimadores muestrales\n",
        "\n",
        "La estimación de medias de cada clase se estiman mediante las medias muestrales de los datos observados en cada clase $hat{\\boldsymbol{\\mu}}j = \\frac{1}{n_j} \\sum{i=1}^{n_j} \\mathbf{x}{ij}$. Y la estimación de la covarianza común se utiliza la matriz de covarianza muestral $\\hat{\\boldsymbol{\\Sigma}} = \\frac{1}{N - K} \\sum{j=1}^{K} \\sum_{i=1}^{n_j} (\\mathbf{x}{ij} - \\hat{\\boldsymbol{\\mu}}_j)(\\mathbf{x}{ij} - \\hat{\\boldsymbol{\\mu}}_j)^T$. Estos dos son los estimadores de máxima verosimilitud."
      ]
    },
    {
      "cell_type": "markdown",
      "metadata": {
        "id": "EkONsjAzI48N"
      },
      "source": [
        "# Implementación y ejemplo de clasificación\n",
        "En esta sección crearemos una función que genere un clasificador lineal y lo probaremos con la base de datos _inserte nombre de base de datos_."
      ]
    },
    {
      "cell_type": "code",
      "execution_count": 1,
      "metadata": {},
      "outputs": [],
      "source": [
        "import numpy as np\n",
        "import matplotlib.pyplot as plt\n",
        "\n",
        "class LDAGaussiano:\n",
        "    def __init__(self):\n",
        "        b0 = None\n",
        "        b = None\n",
        "        clases = None\n",
        "\n",
        "\n",
        "    def entrenar(self, datos, clasific):\n",
        "        a,b = datos.shape\n",
        "        self.clases, inv, counts = np.unique(clasific, return_inverse = True, return_counts = True)\n",
        "        mu_1, mu_2 = np.zeros(b), np.zeros(b)\n",
        "        sxx_1, sxx_2 = np.zeros((b,b)), np.zeros((b,b))\n",
        "\n",
        "        for i in range(0,a):\n",
        "            if clasific[inv[i]] == self.clases[0]:\n",
        "                mu_1 += datos[i,::]\n",
        "            else:\n",
        "                mu_2 += datos[i,::]\n",
        "        mu_1 /= counts[0]\n",
        "        mu_2 /= counts[1]\n",
        "\n",
        "        for i in range(0,a):\n",
        "            if clasific[inv[i]] == self.clases[0]:\n",
        "                sxx_1 += np.outer(datos[i,::]-mu_1,datos[i,::]-mu_1)\n",
        "            else:\n",
        "                sxx_2 += np.outer(datos[i,::]-mu_2,datos[i,::]-mu_2)\n",
        "        sigma_xx = (sxx_1 + sxx_2)/a\n",
        "\n",
        "        self.b0 = -(np.inner(mu_1,np.linalg.solve(sigma_xx,mu_1)) - np.inner(mu_2,np.linalg.solve(sigma_xx,mu_2)))/2 + np.log(counts[0]/counts[1])\n",
        "        self.b = np.linalg.solve(sigma_xx,(mu_1-mu_2))\n",
        "\n",
        "        return self.b0, self.b.shape\n",
        "\n",
        "\n",
        "    def predecir(self,datos):\n",
        "        if (self.b0 is not None) and (self.b is not None):\n",
        "            sol = None\n",
        "            if datos.ndim == 1:\n",
        "                L = self.b0 + np.inner(self.b,datos)\n",
        "                if L > 0:\n",
        "                    sol = self.clases[1]\n",
        "                else:\n",
        "                    sol = self.clases[0]\n",
        "            else:\n",
        "                a,_ = datos.shape\n",
        "                sol = np.zeros(a)\n",
        "                for index, x in enumerate(datos):\n",
        "                    L = self.b0 + np.inner(self.b,x)\n",
        "                    if L > 0:\n",
        "                        sol[index] = self.clases[1]\n",
        "                    else:\n",
        "                        sol[index] = self.clases[0]\n",
        "            return sol\n",
        "        else:\n",
        "            print(\"Debes entrenar el modelo.\")\n",
        "\n",
        "    def accuracy(self):\n",
        "        pass\n"
      ]
    },
    {
      "cell_type": "code",
      "execution_count": 2,
      "metadata": {},
      "outputs": [
        {
          "name": "stdout",
          "output_type": "stream",
          "text": [
            "0 10 100\n",
            "1 11 110\n",
            "2 12 120\n"
          ]
        },
        {
          "name": "stderr",
          "output_type": "stream",
          "text": [
            "C:\\Users\\Felip\\AppData\\Local\\Temp\\ipykernel_24288\\3280623294.py:7: FutureWarning: Series.__getitem__ treating keys as positions is deprecated. In a future version, integer keys will always be treated as labels (consistent with DataFrame behavior). To access a value by position, use `ser.iloc[pos]`\n",
            "  print(index, row[1], row[2])\n"
          ]
        },
        {
          "data": {
            "text/plain": [
              "(1466.0602270127372, (3,))"
            ]
          },
          "execution_count": 2,
          "metadata": {},
          "output_type": "execute_result"
        }
      ],
      "source": [
        "import pandas as pd\n",
        "\n",
        "df = pd.DataFrame({'c1': [10, 11, 12], 'c2': [100, 110, 120]})\n",
        "df = df.reset_index()  # make sure indexes pair with number of rows\n",
        "\n",
        "for index, row in df.iterrows():\n",
        "    print(index, row[1], row[2])\n",
        "\n",
        "datos = np.array([[2, 3, 3], [4, 5, 6],[1,9,3.5],[1,2,2],[4.5,5.5,6.6]])\n",
        "clasific = np.array([1,2,1,1,2])\n",
        "lda = LDAGaussiano()\n",
        "lda.entrenar(datos,clasific)"
      ]
    },
    {
      "cell_type": "code",
      "execution_count": 3,
      "metadata": {},
      "outputs": [
        {
          "name": "stdout",
          "output_type": "stream",
          "text": [
            "(12163, 785) (2027, 785)\n"
          ]
        }
      ],
      "source": [
        "import numpy as np\n",
        "import pandas as pd\n",
        "import matplotlib.pyplot as plt\n",
        "\n",
        "mnist_test = pd.read_csv('data/mnist_test_1.csv', header=None)\n",
        "mnist_train = pd.read_csv('data/mnist_train_1.csv', header=None)\n",
        "\n",
        "mnist_test = mnist_test[mnist_test[0].isin([1,5])].to_numpy()\n",
        "mnist_train = mnist_train[mnist_train[0].isin([1,5])].to_numpy()\n",
        "\n",
        "#np.savetxt(\"data/mnist_test_1.csv\", mnist_test, fmt=\"%d\", delimiter=\",\")\n",
        "#np.savetxt(\"data/mnist_train_1.csv\", mnist_train, fmt=\"%d\", delimiter=\",\")\n",
        "\n",
        "print(mnist_train.shape, mnist_test.shape)"
      ]
    },
    {
      "cell_type": "code",
      "execution_count": 4,
      "metadata": {},
      "outputs": [],
      "source": [
        "mnist_test_y = mnist_test[::,0]\n",
        "mnist_test_x = mnist_test[::, 1:]\n",
        "mnist_train_y = mnist_train[::,0]\n",
        "mnist_train_x = mnist_train[::, 1:]"
      ]
    },
    {
      "cell_type": "code",
      "execution_count": 5,
      "metadata": {},
      "outputs": [
        {
          "data": {
            "image/png": "[encoded data removed]",
            "text/plain": [
              "<Figure size 640x480 with 1 Axes>"
            ]
          },
          "metadata": {},
          "output_type": "display_data"
        }
      ],
      "source": [
        "imgplot = plt.imshow(mnist_test_x[4].reshape(28,28))"
      ]
    },
    {
      "cell_type": "code",
      "execution_count": 6,
      "metadata": {},
      "outputs": [
        {
          "data": {
            "text/plain": [
              "(151, 1)"
            ]
          },
          "execution_count": 6,
          "metadata": {},
          "output_type": "execute_result"
        }
      ],
      "source": [
        "#np.var(array_2d, axis = 0)\n",
        "idx = np.argwhere(np.all(mnist_train_x[..., :] == 0, axis=0))\n",
        "idx.shape"
      ]
    },
    {
      "cell_type": "code",
      "execution_count": 7,
      "metadata": {},
      "outputs": [
        {
          "data": {
            "text/plain": [
              "(12163, 633)"
            ]
          },
          "execution_count": 7,
          "metadata": {},
          "output_type": "execute_result"
        }
      ],
      "source": [
        "mnist_train_x = np.delete(mnist_train_x, idx, axis=1)\n",
        "mnist_train_x.shape"
      ]
    },
    {
      "cell_type": "code",
      "execution_count": 8,
      "metadata": {},
      "outputs": [
        {
          "data": {
            "text/plain": [
              "(2027, 633)"
            ]
          },
          "execution_count": 8,
          "metadata": {},
          "output_type": "execute_result"
        }
      ],
      "source": [
        "mnist_test_x = np.delete(mnist_test_x, idx, axis=1)\n",
        "mnist_test_x.shape"
      ]
    },
    {
      "cell_type": "code",
      "execution_count": 9,
      "metadata": {},
      "outputs": [
        {
          "data": {
            "text/plain": [
              "(9.758582406962178, (633,))"
            ]
          },
          "execution_count": 9,
          "metadata": {},
          "output_type": "execute_result"
        }
      ],
      "source": [
        "lda = LDAGaussiano()\n",
        "lda.entrenar(mnist_train_x,mnist_train_y)"
      ]
    },
    {
      "cell_type": "code",
      "execution_count": 10,
      "metadata": {},
      "outputs": [
        {
          "data": {
            "text/plain": [
              "array([1., 1., 5., ..., 5., 1., 5.])"
            ]
          },
          "execution_count": 10,
          "metadata": {},
          "output_type": "execute_result"
        }
      ],
      "source": [
        "lda_predict = lda.predecir(mnist_test_x)\n",
        "lda_predict"
      ]
    },
    {
      "cell_type": "code",
      "execution_count": 11,
      "metadata": {},
      "outputs": [],
      "source": [
        "def accuracy(a,b):\n",
        "    n = len(a)\n",
        "    sum = 0\n",
        "    for i in range(0,n):\n",
        "        if a[i] == b[i]:\n",
        "            sum += 1\n",
        "    return sum/n"
      ]
    },
    {
      "cell_type": "code",
      "execution_count": 12,
      "metadata": {},
      "outputs": [
        {
          "data": {
            "text/plain": [
              "0.9896398618648249"
            ]
          },
          "execution_count": 12,
          "metadata": {},
          "output_type": "execute_result"
        }
      ],
      "source": [
        "lda_accuracy = accuracy(mnist_test_y, lda_predict)\n",
        "lda_accuracy"
      ]
    },
    {
      "cell_type": "markdown",
      "metadata": {
        "id": "4O1Wj5wz8zcY"
      },
      "source": [
        "  # Referencias\n",
        "  \n",
        "  Izenman, A. J. (2008). *Modern multivariate statistical techniques* (Vol. 1). New York: Springer.\n",
        "\n",
        "  Fisher, R. A. (1936). *The use of multiple measurements in taxonomic problems*. Annals of eugenics, 7(2), 179-188."
      ]
    }
  ],
  "metadata": {
    "colab": {
      "provenance": []
    },
    "kernelspec": {
      "display_name": "Python 3",
      "name": "python3"
    },
    "language_info": {
      "codemirror_mode": {
        "name": "ipython",
        "version": 3
      },
      "file_extension": ".py",
      "mimetype": "text/x-python",
      "name": "python",
      "nbconvert_exporter": "python",
      "pygments_lexer": "ipython3",
      "version": "3.11.4"
    }
  },
  "nbformat": 4,
  "nbformat_minor": 0
}
